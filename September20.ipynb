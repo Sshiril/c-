{
  "nbformat": 4,
  "nbformat_minor": 0,
  "metadata": {
    "colab": {
      "provenance": [],
      "authorship_tag": "ABX9TyOLv8qLFHG7JUBqK+5llwPP",
      "include_colab_link": true
    },
    "kernelspec": {
      "name": "python3",
      "display_name": "Python 3"
    },
    "language_info": {
      "name": "python"
    }
  },
  "cells": [
    {
      "cell_type": "markdown",
      "metadata": {
        "id": "view-in-github",
        "colab_type": "text"
      },
      "source": [
        "<a href=\"https://colab.research.google.com/github/Sshiril/c-/blob/main/September20.ipynb\" target=\"_parent\"><img src=\"https://colab.research.google.com/assets/colab-badge.svg\" alt=\"Open In Colab\"/></a>"
      ]
    },
    {
      "cell_type": "code",
      "execution_count": null,
      "metadata": {
        "colab": {
          "base_uri": "https://localhost:8080/"
        },
        "id": "S_w_DKOvrc2L",
        "outputId": "b3a742f6-4e86-416c-ca60-6c56e228db29"
      },
      "outputs": [
        {
          "output_type": "stream",
          "name": "stdout",
          "text": [
            "even\n",
            "odd\n",
            "even\n",
            "odd\n",
            "even\n",
            "odd\n",
            "even\n",
            "odd\n",
            "even\n",
            "odd\n"
          ]
        }
      ],
      "source": [
        "for i in range(10):\n",
        "  if i%2==0:\n",
        "    print (\"even\")\n",
        "  else:\n",
        "      print (\"odd\")"
      ]
    },
    {
      "cell_type": "markdown",
      "source": [],
      "metadata": {
        "id": "x_dX8n9xvjEe"
      }
    },
    {
      "cell_type": "code",
      "source": [
        "number=int(input(\"Enter the number:\"))\n",
        "if number % 5 == 0:\n",
        "  print(\"number is multiple of 5\")\n",
        "else:\n",
        "  print(\"number is not a multiple of 5\")"
      ],
      "metadata": {
        "colab": {
          "base_uri": "https://localhost:8080/"
        },
        "id": "Bik3hyEmspbq",
        "outputId": "170d53c0-39d7-4dcb-8b49-317492baa7b2"
      },
      "execution_count": null,
      "outputs": [
        {
          "output_type": "stream",
          "name": "stdout",
          "text": [
            "Enter the number:8\n",
            "number is not a multiple of 5\n"
          ]
        }
      ]
    },
    {
      "cell_type": "code",
      "source": [
        "#else if for multiple decision statements\n",
        "age=int(input(\"enter your age\"))\n",
        "if age<18:\n",
        "  print(\"age is less than 18\");\n",
        "elif age>18 and age<50:\n",
        "  print (\"age is between 18 and 50\");\n",
        "else:\n",
        "  print(age)"
      ],
      "metadata": {
        "colab": {
          "base_uri": "https://localhost:8080/"
        },
        "id": "Le5SZPrWtbHu",
        "outputId": "1c302b97-c9ae-4c2d-bf35-b92f4b255a95"
      },
      "execution_count": null,
      "outputs": [
        {
          "output_type": "stream",
          "name": "stdout",
          "text": [
            "enter your age25\n",
            "age is between 18 and 50\n"
          ]
        }
      ]
    },
    {
      "cell_type": "markdown",
      "source": [
        "\n"
      ],
      "metadata": {
        "id": "8xyg_tZFuSeI"
      }
    },
    {
      "cell_type": "markdown",
      "metadata": {
        "id": "e4JD7pZyCmLL"
      },
      "source": [
        "**DATA TYPES :**\n",
        "\n",
        "**1)integer:**     Any number from -infinity to +infinity ex:3,-8,7776,2,-2\n",
        "\n",
        "**2)Float:**      Any decimal number ex:4.5,7,9998,1.0,-9.8,2.0,-2.0\n",
        "\n",
        "**3)String:**      \" \" or '' mean the same i.e., the thing that we have entered inside is called string .String can consist of any thing. ie., numbers , letters,symbols\n",
        "\n",
        "**4)Boolean:**     Binary numbers 0 and 1. 0-no, 1-yes     0/no-False     ,     1/yes-True"
      ]
    },
    {
      "cell_type": "code",
      "source": [
        "9/4"
      ],
      "metadata": {
        "colab": {
          "base_uri": "https://localhost:8080/"
        },
        "id": "9JZ45_QBuYRa",
        "outputId": "a74ebea1-f0c1-4014-d827-4c148c474a37"
      },
      "execution_count": null,
      "outputs": [
        {
          "output_type": "execute_result",
          "data": {
            "text/plain": [
              "2.25"
            ]
          },
          "metadata": {},
          "execution_count": 10
        }
      ]
    },
    {
      "cell_type": "code",
      "source": [],
      "metadata": {
        "id": "qGMRjuuMvap_"
      },
      "execution_count": null,
      "outputs": []
    },
    {
      "cell_type": "code",
      "source": [
        "9//4    #integer division"
      ],
      "metadata": {
        "colab": {
          "base_uri": "https://localhost:8080/"
        },
        "id": "c81CbrqZu8-I",
        "outputId": "1c01556b-52f7-46e9-f8b8-d9ede67a8e36"
      },
      "execution_count": null,
      "outputs": [
        {
          "output_type": "execute_result",
          "data": {
            "text/plain": [
              "2"
            ]
          },
          "metadata": {},
          "execution_count": 11
        }
      ]
    },
    {
      "cell_type": "code",
      "source": [],
      "metadata": {
        "id": "KqhpKljKvdPc"
      },
      "execution_count": null,
      "outputs": []
    }
  ]
}